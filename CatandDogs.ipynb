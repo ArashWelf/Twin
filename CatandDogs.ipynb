{
 "cells": [
  {
   "cell_type": "code",
   "execution_count": 3,
   "id": "64beeb15-4d7e-40e2-a104-e0916c4e9fdf",
   "metadata": {
    "tags": []
   },
   "outputs": [
    {
     "name": "stdout",
     "output_type": "stream",
     "text": [
      "Looking in indexes: https://pypi.org/simple, https://pip.repos.neuron.amazonaws.com\n",
      "Requirement already satisfied: tqdm in /home/ec2-user/anaconda3/envs/pytorch_p310/lib/python3.10/site-packages (4.65.0)\n",
      "Looking in indexes: https://pypi.org/simple, https://pip.repos.neuron.amazonaws.com\n",
      "Requirement already satisfied: pillow in /home/ec2-user/anaconda3/envs/pytorch_p310/lib/python3.10/site-packages (9.5.0)\n",
      "Collecting pillow\n",
      "  Downloading Pillow-10.0.0-cp310-cp310-manylinux_2_17_x86_64.manylinux2014_x86_64.whl (3.3 MB)\n",
      "\u001b[2K     \u001b[90m━━━━━━━━━━━━━━━━━━━━━━━━━━━━━━━━━━━━━━━━\u001b[0m \u001b[32m3.3/3.3 MB\u001b[0m \u001b[31m43.2 MB/s\u001b[0m eta \u001b[36m0:00:00\u001b[0m00:01\u001b[0m00:01\u001b[0m\n",
      "\u001b[?25hInstalling collected packages: pillow\n",
      "  Attempting uninstall: pillow\n",
      "    Found existing installation: Pillow 9.5.0\n",
      "    Uninstalling Pillow-9.5.0:\n",
      "      Successfully uninstalled Pillow-9.5.0\n",
      "Successfully installed pillow-10.0.0\n"
     ]
    }
   ],
   "source": [
    "!pip3 install tqdm\n",
    "!pip3 install pillow --upgrade"
   ]
  },
  {
   "cell_type": "code",
   "execution_count": null,
   "id": "6f7f6ad9-1141-4093-a4ee-256bf1c354d5",
   "metadata": {
    "tags": []
   },
   "outputs": [],
   "source": [
    "%matplotlib inline\n",
    "\n",
    "import os\n",
    "import tarfile\n",
    "import urllib\n",
    "import shutil\n",
    "import json\n",
    "import random\n",
    "import numpy as np\n",
    "import boto3\n",
    "import sagemaker\n",
    "\n",
    "from tqdm import tqdm\n",
    "from sagemaker.amazon.amazon_estimator import get_image_uri\n",
    "from matplotlib import pyplot as plt\n",
    "from xml.etree import ElementTree as ET\n",
    "from PIL import Image, ImageDraw, ImageFont\n",
    "\n",
    "urls = ['http://www.robots.ox.ac.uk/~vgg/data/pets/data/images.tar.gz',\n",
    "        'http://www.robots.ox.ac.uk/~vgg/data/pets/data/annotations.tar.gz']\n",
    "\n",
    "def download_and_extract(data_dir, download_dir):\n",
    "    for url in urls:\n",
    "        target_file = url.split('/')[-1]\n",
    "        if target_file not in os.listdir(download_dir):\n",
    "            print('Downloading', url)\n",
    "            urllib.request.urlretrieve(url, os.path.join(download_dir, target_file))\n",
    "            tf = tarfile.open(url.split('/')[-1])\n",
    "            tf.extractall(data_dir)\n",
    "        else:\n",
    "            print('Already downloaded', url)\n",
    "\n",
    "if not os.path.isdir('data'):\n",
    "    os.mkdir('data')\n",
    "\n",
    "download_and_extract('data', '.')"
   ]
  },
  {
   "cell_type": "code",
   "execution_count": 5,
   "id": "dcf8fbba-96bf-48d9-92a7-213d11b95b08",
   "metadata": {
    "tags": []
   },
   "outputs": [
    {
     "data": {
      "text/plain": [
       "'data/annotations/xmls/german_shorthaired_153.xml'"
      ]
     },
     "execution_count": 5,
     "metadata": {},
     "output_type": "execute_result"
    }
   ],
   "source": [
    "xml_dir = 'data/annotations/xmls/'\n",
    "xml_files = [os.path.join(xml_dir, x) for x in os.listdir(xml_dir) if x[-3:] == 'xml']\n",
    "xml_files[0]"
   ]
  },
  {
   "cell_type": "code",
   "execution_count": 6,
   "id": "249469e5-7f86-4a1b-b899-cf12814c7d08",
   "metadata": {
    "tags": []
   },
   "outputs": [],
   "source": [
    "classes = ['cat', 'dog']\n",
    "categories = [\n",
    "    {\n",
    "        'class_id': 0,\n",
    "        'name': 'cat'\n",
    "    },\n",
    "    {\n",
    "        'class_id': 1,\n",
    "        'name': 'dog'\n",
    "    }\n",
    "]"
   ]
  },
  {
   "cell_type": "code",
   "execution_count": 7,
   "id": "96b439c8-df06-4750-be6b-ee6a042fb0c3",
   "metadata": {
    "tags": []
   },
   "outputs": [],
   "source": [
    "def extract_annotation(xml_file_path):\n",
    "    \n",
    "    tree = ET.parse(xml_file_path)\n",
    "    root = tree.getroot()\n",
    "    annotation = {}\n",
    "    \n",
    "    annotation['file'] = root.find('filename').text\n",
    "    annotation['categories'] = categories\n",
    "    \n",
    "    size = root.find('size')\n",
    "    \n",
    "    annotation['image_size'] = [{\n",
    "        'width': int(size.find('width').text),\n",
    "        'height': int(size.find('height').text),\n",
    "        'depth': int(size.find('depth').text)\n",
    "    }]\n",
    "    \n",
    "    annotation['annotations'] = []\n",
    "    \n",
    "    for item in root.iter('object'):\n",
    "        class_id = classes.index(item.find('name').text)\n",
    "        ymin, xmin, ymax, xmax = None, None, None, None\n",
    "        \n",
    "        for box in item.findall('bndbox'):\n",
    "            xmin = int(box.find(\"xmin\").text)\n",
    "            ymin = int(box.find(\"ymin\").text)\n",
    "            xmax = int(box.find(\"xmax\").text)\n",
    "            ymax = int(box.find(\"ymax\").text)\n",
    "        \n",
    "            if all([xmin, ymin, xmax, ymax]) is not None:\n",
    "                 annotation['annotations'].append({\n",
    "                     'class_id': class_id,\n",
    "                     'left': xmin,\n",
    "                     'top': ymin,\n",
    "                     'width': xmax - xmin,\n",
    "                     'height': ymax - ymin\n",
    "                 })\n",
    "    return annotation"
   ]
  },
  {
   "cell_type": "code",
   "execution_count": 8,
   "id": "e2e8ed71-425c-4290-9721-d55c06ddf235",
   "metadata": {
    "tags": []
   },
   "outputs": [
    {
     "data": {
      "text/plain": [
       "{'file': 'german_shorthaired_153.jpg',\n",
       " 'categories': [{'class_id': 0, 'name': 'cat'},\n",
       "  {'class_id': 1, 'name': 'dog'}],\n",
       " 'image_size': [{'width': 333, 'height': 500, 'depth': 3}],\n",
       " 'annotations': [{'class_id': 1,\n",
       "   'left': 106,\n",
       "   'top': 91,\n",
       "   'width': 142,\n",
       "   'height': 91}]}"
      ]
     },
     "execution_count": 8,
     "metadata": {},
     "output_type": "execute_result"
    }
   ],
   "source": [
    "extract_annotation(xml_files[0])"
   ]
  },
  {
   "cell_type": "code",
   "execution_count": 10,
   "id": "33d0e071-55cc-4402-84f9-1b64b5600a63",
   "metadata": {
    "tags": []
   },
   "outputs": [],
   "source": [
    "def plot_example(plt, annot, image_file_path, rows, cols, index):\n",
    "    img = Image.open(image_file_path)\n",
    "    draw = ImageDraw.Draw(img)\n",
    "    font = ImageFont.truetype('/usr/share/fonts/dejavu/DejaVuSerif-Bold.ttf', 20)\n",
    "    \n",
    "    for a in annot['annotations']:\n",
    "        box = [\n",
    "            int(a['left']), int(a['top']),\n",
    "            int(a['left']) + int(a['width']),\n",
    "            int(a['top']) + int(a['height'])\n",
    "        ]\n",
    "        draw.rectangle(box, outline='yellow', width=4)\n",
    "        draw.text((box[0], box[1]), classes[int(a['class_id'])], font=font)\n",
    "    plt.subplot(rows, cols, index + 1)\n",
    "    plt.xticks([])\n",
    "    plt.yticks([])\n",
    "    plt.imshow(img)\n",
    "    return plt\n",
    "\n",
    "def show_random_annotations(plt):\n",
    "    plt.figure(figsize=(16, 16))\n",
    "    for i in range(0, 9):\n",
    "        index = random.randint(0, len(xml_files) - 1)\n",
    "        \n",
    "        annot = extract_annotation(xml_files[index])\n",
    "        image_file_path = os.path.join('data/images/', annot['file'])\n",
    "\n",
    "        plt = plot_example(plt, annot, image_file_path, 3, 3, i)\n",
    "    plt.show()"
   ]
  },
  {
   "cell_type": "code",
   "execution_count": null,
   "id": "9a6cc96a-c6c6-4a01-93d1-ad1567893b35",
   "metadata": {
    "tags": []
   },
   "outputs": [],
   "source": [
    "show_random_annotations(plt)"
   ]
  },
  {
   "cell_type": "code",
   "execution_count": 12,
   "id": "761989e5-f9c3-4904-9e20-37da191e39bb",
   "metadata": {
    "tags": []
   },
   "outputs": [
    {
     "name": "stderr",
     "output_type": "stream",
     "text": [
      "The method get_image_uri has been renamed in sagemaker>=2.\n",
      "See: https://sagemaker.readthedocs.io/en/stable/v2.html for details.\n",
      "Defaulting to the only supported framework/algorithm version: 1. Ignoring framework/algorithm version: latest.\n"
     ]
    },
    {
     "name": "stdout",
     "output_type": "stream",
     "text": [
      "813361260812.dkr.ecr.eu-central-1.amazonaws.com/object-detection:1\n"
     ]
    }
   ],
   "source": [
    "role = sagemaker.get_execution_role()\n",
    "bucket_name = 'petsdata'\n",
    "training_image = get_image_uri(boto3.Session().region_name, 'object-detection',\n",
    "                              repo_version='latest')\n",
    "print(training_image)"
   ]
  },
  {
   "cell_type": "code",
   "execution_count": 13,
   "id": "86488f8d-9ddf-498f-ac72-1c306e9daa56",
   "metadata": {
    "tags": []
   },
   "outputs": [],
   "source": [
    "folders = ['train', 'train_annotation', 'validation', 'validation_annotation']\n",
    "\n",
    "for folder in folders:\n",
    "    if os.path.isdir(folder):\n",
    "        shutil.rmtree(folder)\n",
    "    os.mkdir(folder)"
   ]
  },
  {
   "cell_type": "code",
   "execution_count": 14,
   "id": "52f1fa24-4820-40e7-8702-7196e151f69b",
   "metadata": {
    "tags": []
   },
   "outputs": [
    {
     "name": "stdout",
     "output_type": "stream",
     "text": [
      "Total examples: 3686\n"
     ]
    }
   ],
   "source": [
    "print('Total examples:', len(xml_files))"
   ]
  },
  {
   "cell_type": "code",
   "execution_count": 15,
   "id": "b078a0e1-ea5e-4d48-8c4f-ddfc536588cc",
   "metadata": {
    "tags": []
   },
   "outputs": [
    {
     "name": "stderr",
     "output_type": "stream",
     "text": [
      "100%|██████████| 3686/3686 [00:02<00:00, 1794.87it/s]\n"
     ]
    }
   ],
   "source": [
    "for xml_file in tqdm(xml_files):\n",
    "    target_set = 'train' if random.randint(0, 99) < 75 else 'validation'\n",
    "    annot = extract_annotation(xml_file)\n",
    "    image_file_path = os.path.join('data/images/', annot['file'])\n",
    "    image_target_path = os.path.join(target_set, annot['file'])\n",
    "    shutil.copy(image_file_path, image_target_path)\n",
    "    json_file_path = os.path.join(target_set + '_annotation', annot['file'][:-3] + 'json')\n",
    "    with open(json_file_path, 'w') as f:\n",
    "        json.dump(annot, f)"
   ]
  },
  {
   "cell_type": "code",
   "execution_count": 16,
   "id": "6e3c8bc4-c09f-408a-8bf4-f3553d6deace",
   "metadata": {
    "tags": []
   },
   "outputs": [],
   "source": [
    "train_images = os.listdir('train')\n",
    "train_annots = os.listdir('train_annotation')"
   ]
  },
  {
   "cell_type": "code",
   "execution_count": 17,
   "id": "6f5eb8dc-f6d7-46d7-9f96-a48476e2681d",
   "metadata": {
    "tags": []
   },
   "outputs": [
    {
     "name": "stdout",
     "output_type": "stream",
     "text": [
      "2741 2741\n"
     ]
    }
   ],
   "source": [
    "print(len(train_annots), len(train_images))"
   ]
  },
  {
   "cell_type": "code",
   "execution_count": 18,
   "id": "b40b92db-5a70-4037-b474-60adab1cf238",
   "metadata": {
    "tags": []
   },
   "outputs": [],
   "source": [
    "for image in train_images:\n",
    "    key = image.split('.')[0]\n",
    "    json_file = key + '.json'\n",
    "    if json_file not in train_annots:\n",
    "        print('Not found', json_file)"
   ]
  },
  {
   "cell_type": "code",
   "execution_count": 30,
   "id": "fe6b30b5-a5ef-4e6f-953a-1e2b29e6f134",
   "metadata": {
    "tags": []
   },
   "outputs": [
    {
     "name": "stdout",
     "output_type": "stream",
     "text": [
      "Validation Annotations uploaded\n",
      "CPU times: user 125 ms, sys: 5.85 ms, total: 131 ms\n",
      "Wall time: 157 ms\n"
     ]
    }
   ],
   "source": [
    "%%time\n",
    "sess = sagemaker.Session()\n",
    "\n",
    "print('Uploading data..')\n",
    "s3_train_path = sess.upload_data(path='train', bucket=bucket_name, key_prefix='train')\n",
    "print('Training images uploaded')\n",
    "s3_train_annotation_path = sess.upload_data(path='train_annotation', bucket=bucket_name,\n",
    "                                     key_prefix='train_annotation')\n",
    "print('Training Annotations uploaded')\n",
    "s3_validation_path = sess.upload_data(path='validation', bucket=bucket_name,\n",
    "                                      key_prefix='validation')\n",
    "print('Validation images uploaded')\n",
    "s3_validation_annotation_path = sess.upload_data(path='validation_annotation', bucket=bucket_name,\n",
    "                                          key_prefix='validation_annotation')\n",
    "print('Validation Annotations uploaded')"
   ]
  },
  {
   "cell_type": "code",
   "execution_count": 31,
   "id": "7b02cc18-52e3-4d47-8fa2-249658d9d075",
   "metadata": {
    "tags": []
   },
   "outputs": [
    {
     "ename": "NameError",
     "evalue": "name 's3_validation_annotation_path' is not defined",
     "output_type": "error",
     "traceback": [
      "\u001b[0;31m---------------------------------------------------------------------------\u001b[0m",
      "\u001b[0;31mNameError\u001b[0m                                 Traceback (most recent call last)",
      "Cell \u001b[0;32mIn[31], line 1\u001b[0m\n\u001b[0;32m----> 1\u001b[0m \u001b[43ms3_validation_annotation_path\u001b[49m\n",
      "\u001b[0;31mNameError\u001b[0m: name 's3_validation_annotation_path' is not defined"
     ]
    }
   ],
   "source": [
    "s3_validation_annotation_path"
   ]
  },
  {
   "cell_type": "code",
   "execution_count": 21,
   "id": "4bc82bab-e701-4fc2-9f4f-d2b6542342f5",
   "metadata": {
    "tags": []
   },
   "outputs": [
    {
     "name": "stderr",
     "output_type": "stream",
     "text": [
      "train_instance_count has been renamed in sagemaker>=2.\n",
      "See: https://sagemaker.readthedocs.io/en/stable/v2.html for details.\n",
      "train_instance_type has been renamed in sagemaker>=2.\n",
      "See: https://sagemaker.readthedocs.io/en/stable/v2.html for details.\n",
      "train_max_run has been renamed in sagemaker>=2.\n",
      "See: https://sagemaker.readthedocs.io/en/stable/v2.html for details.\n",
      "train_volume_size has been renamed in sagemaker>=2.\n",
      "See: https://sagemaker.readthedocs.io/en/stable/v2.html for details.\n"
     ]
    }
   ],
   "source": [
    "model = sagemaker.estimator.Estimator(\n",
    "    training_image,\n",
    "    role=role,\n",
    "    train_instance_count=1,\n",
    "    train_instance_type='ml.p3.2xlarge',\n",
    "    train_volume_size=100,\n",
    "    train_max_run=36000,\n",
    "    input_mode='File',\n",
    "    output_path='s3://petsdata/output',\n",
    "    sagemaker_session=sess\n",
    ")"
   ]
  },
  {
   "cell_type": "code",
   "execution_count": 32,
   "id": "22162490-6aa3-4683-83ed-cb197ba49f18",
   "metadata": {
    "tags": []
   },
   "outputs": [],
   "source": [
    "model.set_hyperparameters(\n",
    "    base_network='resnet-50',\n",
    "    num_classes=2,\n",
    "    use_pretrained_model=1,\n",
    "    mini_batch_size=16,\n",
    "    epochs=15,\n",
    "    learning_rate=0.001,\n",
    "    lr_scheduler_step='10',\n",
    "    lr_scheduler_factor=0.1,\n",
    "    optimizer='sgd',\n",
    "    momentum=0.9,\n",
    "    weight_decay=0.0005,\n",
    "    overlap_threshold=0.5,\n",
    "    nms_threshold=0.45,\n",
    "    image_shape=512,\n",
    "    num_training_samples=len(train_annots)\n",
    ")"
   ]
  },
  {
   "cell_type": "code",
   "execution_count": null,
   "id": "10d78759-9b06-4de4-beec-ea06cfbb7f1d",
   "metadata": {
    "tags": []
   },
   "outputs": [],
   "source": [
    "train_data = sagemaker.session.s3_input(s3_train_path, distribution='FullyReplicated',\n",
    "                          content_type='application/x-image', s3_data_type='S3Prefix')\n",
    "validation_data = sagemaker.session.s3_input(s3_validation_path, distribution='FullyReplicated',\n",
    "                          content_type='application/x-image', s3_data_type='S3Prefix')\n",
    "\n",
    "train_annotation_data = sagemaker.session.s3_input(s3_train_annotation_path, distribution='FullyReplicated',\n",
    "                          content_type='application/x-image', s3_data_type='S3Prefix')\n",
    "validation_annotation_data = sagemaker.session.s3_input(s3_validation_annotation_path, distribution='FullyReplicated',\n",
    "                          content_type='application/x-image', s3_data_type='S3Prefix')"
   ]
  },
  {
   "cell_type": "code",
   "execution_count": null,
   "id": "7456d681-4ff0-40d0-84f5-872e71a0f1da",
   "metadata": {
    "tags": []
   },
   "outputs": [],
   "source": [
    "data_channels = {\n",
    "    'train': train_data,\n",
    "    'train_annotation': train_annotation_data,\n",
    "    'validation': validation_data,\n",
    "    'validation_annotation': validation_annotation_data\n",
    "}"
   ]
  },
  {
   "cell_type": "code",
   "execution_count": null,
   "id": "832f6d17-e127-47ad-baf3-0b8b02bb94fa",
   "metadata": {
    "tags": []
   },
   "outputs": [],
   "source": [
    "model.fit(inputs=data_channels, logs=True)"
   ]
  },
  {
   "cell_type": "code",
   "execution_count": null,
   "id": "75d99a6b-770d-4216-8df8-a4aaa580e25d",
   "metadata": {
    "tags": []
   },
   "outputs": [],
   "source": [
    "deployed_model = model.deploy(initial_instance_count=1, instance_type='ml.m4.xlarge')\n",
    "print('\\nModel deployed!')"
   ]
  },
  {
   "cell_type": "code",
   "execution_count": 37,
   "id": "7578dafb-9f74-4e47-818f-8df67158ab0d",
   "metadata": {
    "tags": []
   },
   "outputs": [
    {
     "name": "stdout",
     "output_type": "stream",
     "text": [
      "945\n"
     ]
    }
   ],
   "source": [
    "image_dir = 'validation'\n",
    "images = [x for x in os.listdir(image_dir) if x[-3:] == 'jpg']\n",
    "print(len(images))"
   ]
  },
  {
   "cell_type": "code",
   "execution_count": null,
   "id": "9a42c3d2-a954-406d-93d7-da6e88e9e07c",
   "metadata": {
    "tags": []
   },
   "outputs": [],
   "source": [
    "deployed_model.content_type = 'image/jpeg'"
   ]
  },
  {
   "cell_type": "code",
   "execution_count": null,
   "id": "4db1f0e4-6372-47d9-9ff6-36418ef8ad79",
   "metadata": {
    "tags": []
   },
   "outputs": [],
   "source": [
    "index = 0\n",
    "\n",
    "image_path = os.path.join(image_dir, images[index])\n",
    "image_path = 'dog_cat.jfif'\n",
    "\n",
    "with open(image_path, 'rb') as f:\n",
    "    b = bytearray(f.read())\n",
    "\n",
    "results = deployed_model.predict(b)\n",
    "results = json.loads(results)\n",
    "\n",
    "preds = results['prediction']"
   ]
  },
  {
   "cell_type": "code",
   "execution_count": null,
   "id": "3ccfcc93-6a7c-4926-8168-01f6a41f6043",
   "metadata": {
    "tags": []
   },
   "outputs": [],
   "source": [
    "preds"
   ]
  },
  {
   "cell_type": "code",
   "execution_count": null,
   "id": "4c62ce32-4e17-4a1b-a007-6e06fd840d99",
   "metadata": {
    "tags": []
   },
   "outputs": [],
   "source": [
    "img = Image.open(image_path)\n",
    "draw = ImageDraw.Draw(img)\n",
    "font = ImageFont.truetype('/usr/share/fonts/dejavu/DejaVuSerif-Bold.ttf', 30)\n",
    "w, h =img.size\n",
    "\n",
    "for pred in preds:\n",
    "    class_id, score, xmin, ymin, xmax, ymax = pred\n",
    "    \n",
    "    if score > 0.7:\n",
    "        box = [w*xmin, h*ymin, w*xmax, h*ymax]\n",
    "\n",
    "        draw.rectangle(box, outline='yellow', width=4)\n",
    "        draw.text((box[0], box[1]), classes[int(class_id)], font=font, fill='#000000')\n",
    "    else:\n",
    "        break\n",
    "\n",
    "plt.xticks([])\n",
    "plt.yticks([])\n",
    "plt.imshow(img)\n",
    "plt.show()"
   ]
  },
  {
   "cell_type": "code",
   "execution_count": null,
   "id": "66bb155f-e4fc-4904-b7c9-be846d6f2321",
   "metadata": {
    "tags": []
   },
   "outputs": [],
   "source": [
    "sagemaker.Session().delete_endpoint(deployed_model.endpoint)"
   ]
  },
  {
   "cell_type": "code",
   "execution_count": null,
   "id": "3305aeb5-727a-491f-99da-0cabdd361565",
   "metadata": {},
   "outputs": [],
   "source": []
  }
 ],
 "metadata": {
  "kernelspec": {
   "display_name": "conda_pytorch_p310",
   "language": "python",
   "name": "conda_pytorch_p310"
  },
  "language_info": {
   "codemirror_mode": {
    "name": "ipython",
    "version": 3
   },
   "file_extension": ".py",
   "mimetype": "text/x-python",
   "name": "python",
   "nbconvert_exporter": "python",
   "pygments_lexer": "ipython3",
   "version": "3.10.10"
  }
 },
 "nbformat": 4,
 "nbformat_minor": 5
}
